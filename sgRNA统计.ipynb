{
 "cells": [
  {
   "cell_type": "code",
   "execution_count": 38,
   "metadata": {},
   "outputs": [],
   "source": [
    "import numpy as np\n",
    "#from ric_fun import classify_rna_data\n",
    "import os\n",
    "import matplotlib.pyplot as plt\n",
    "import seaborn as sns\n",
    "import pandas as pd"
   ]
  },
  {
   "cell_type": "code",
   "execution_count": 39,
   "metadata": {},
   "outputs": [],
   "source": [
    "def classify_rna_data(input_rna, dis, freq, binsize, discard):\n",
    "    data = input_rna.copy()\n",
    "    distance = data['E'] - data['S']\n",
    "    rna_long = data[distance >= dis]\n",
    "    rna_long_hf = rna_long[rna_long['value'] > freq]\n",
    "    \n",
    "    mask_c = (rna_long_hf['S'] <= discard[0]) & (rna_long_hf['value']>discard[1])\n",
    "    \n",
    "    hist_data = []\n",
    "    s = 0\n",
    "    e = binsize\n",
    "    lens = data['E'].max()\n",
    "    while True:\n",
    "        distance_hf = rna_long_hf[~mask_c]['E'] - rna_long_hf[~mask_c]['S']\n",
    "        mask = (distance_hf > s) & (distance_hf <= e)\n",
    "        hist_data.append(rna_long_hf[~mask_c]['value'][mask].sum())\n",
    "        s = e\n",
    "        e += binsize\n",
    "        if e >= lens:\n",
    "            break\n",
    "    \n",
    "    return rna_long_hf[mask_c], rna_long_hf[~mask_c], hist_data"
   ]
  },
  {
   "cell_type": "code",
   "execution_count": 44,
   "metadata": {},
   "outputs": [
    {
     "name": "stdout",
     "output_type": "stream",
     "text": [
      "[('beta_PHEV-PRJNA1032947-N2a_PHEV-PRJNA1032947-N2a-N', 134659, 61545, 53349, 307, 7889)]\n"
     ]
    }
   ],
   "source": [
    "#file_dir = 'C:/Users/10915/Desktop/zwen/matrix-final/'\n",
    "file_dir = 'C:/Users/10915/Desktop/zwen/matrix-test/'\n",
    "file_list = os.listdir(file_dir)\n",
    "counts_array = np.zeros(len(file_list), dtype=[('Name','U14'),('C','<f8'),('NC','<f8')])\n",
    "nc_classify = np.zeros(len(file_list), dtype=[('Name','U14'),('short','<f8'),('mid','<f8'),('long','<f8')])\n",
    "df_sum = np.zeros(len(file_list), dtype=[('Name','U50'),('C','<i4'),('NC','<i4'),('short','<i4'),('mid','<i4'),('long','<i4')])\n",
    "for i,file_name in enumerate(file_list):\n",
    "    recom_data = np.loadtxt(file_dir +  file_name, usecols=[0,1,2], dtype=[('S','<i4'),('E','<i4'),('value','<f8')])\n",
    "    min_value = min(2000, recom_data['value'].max() / 100)\n",
    "    rna_c, rna_nc, hist_data = classify_rna_data(recom_data, 100, 10, 100, [100, min_value])\n",
    "    total_c = rna_c['value'].sum()\n",
    "    total_nc = rna_nc['value'].sum()\n",
    "    total = total_c + total_nc\n",
    "    counts_array[i][0] = file_name.split('_')[2] #.split('-')[0]\n",
    "    counts_array[i][1] = total_c / total\n",
    "    counts_array[i][2] = total_nc / total\n",
    "    nc_classify[i][0] = counts_array[i][0]\n",
    "    nc_classify[i][1] = sum(hist_data[0:50]) / total_nc\n",
    "    nc_classify[i][2] = sum(hist_data[50:200]) / total_nc\n",
    "    nc_classify[i][3] = sum(hist_data[200:]) / total_nc\n",
    "    df_sum[i][0] = '_'.join([file_name.split('_')[1], '-'.join(file_name.split('_')[2].split('-')[:-1]), file_name.split('_')[-1].split('.')[0]])\n",
    "    df_sum[i][1] = total_c \n",
    "    df_sum[i][2] = total_nc \n",
    "    df_sum[i][3] = sum(hist_data[0:50]) \n",
    "    df_sum[i][4] = sum(hist_data[50:200]) \n",
    "    df_sum[i][5] = sum(hist_data[200:]) \n",
    "    print(df_sum)\n",
    "\n",
    "#df = pd.DataFrame(df_sum, columns=['Name', 'C', 'NC', 'short', 'mid', 'long'])\n",
    "\n",
    "# 保存为制表符分隔的文本文件\n",
    "#output_file_path = \"C:/Users/10915/Desktop/zwen/summary.txt\"\n",
    "#df.to_csv(output_file_path, sep='\\t', index=False)\n",
    "\n"
   ]
  }
 ],
 "metadata": {
  "kernelspec": {
   "display_name": "chenlei",
   "language": "python",
   "name": "python3"
  },
  "language_info": {
   "codemirror_mode": {
    "name": "ipython",
    "version": 3
   },
   "file_extension": ".py",
   "mimetype": "text/x-python",
   "name": "python",
   "nbconvert_exporter": "python",
   "pygments_lexer": "ipython3",
   "version": "3.6.13"
  }
 },
 "nbformat": 4,
 "nbformat_minor": 2
}
